{
 "cells": [
  {
   "cell_type": "code",
   "execution_count": 1,
   "metadata": {},
   "outputs": [],
   "source": [
    "import rospy\n",
    "from sensor_msgs.msg import Image\n",
    "from cv_bridge import CvBridge\n",
    "import cv2\n",
    "\n",
    "pub = rospy.Publisher(\"output_image\",Image,queue_size=1)"
   ]
  },
  {
   "cell_type": "code",
   "execution_count": null,
   "metadata": {},
   "outputs": [],
   "source": [
    "def process_image(msg):\n",
    "    global pub\n",
    "    try:\n",
    "        bridge = CvBridge()\n",
    "        img_rgb = bridge.imgmsg_to_cv2(msg,\"rgb8\")\n",
    "        ##処理の内容##\n",
    "        cv2.putText(img_rgb, 'Test', (150, 150), cv2.FONT_HERSHEY_PLAIN, 10, (0, 255, 255), 5, cv2.LINE_AA)\n",
    "        ###\n",
    "        output_img = bridge.cv2_to_imgmsg(img_rgb,\"rgb8\")\n",
    "        pub.publish(output_img)\n",
    "    except Exception as err:\n",
    "        print(err)\n",
    "\n",
    "def start_node():\n",
    "    rospy.init_node('put_text_')\n",
    "    rospy.Subscriber(\"camera/color/image_raw\",Image,process_image)\n",
    "    rospy.spin()\n",
    "    \n",
    "#### main -----------------------------------------------------------\n",
    "try:\n",
    "    start_node()\n",
    "except rospy.ROSInterruptException as err:\n",
    "    print(err)"
   ]
  }
 ],
 "metadata": {
  "kernelspec": {
   "display_name": "Python 3",
   "language": "python",
   "name": "python3"
  },
  "language_info": {
   "codemirror_mode": {
    "name": "ipython",
    "version": 3
   },
   "file_extension": ".py",
   "mimetype": "text/x-python",
   "name": "python",
   "nbconvert_exporter": "python",
   "pygments_lexer": "ipython3",
   "version": "3.8.5"
  }
 },
 "nbformat": 4,
 "nbformat_minor": 2
}
