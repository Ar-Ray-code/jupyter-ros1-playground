{
 "cells": [
  {
   "cell_type": "code",
   "execution_count": 1,
   "metadata": {},
   "outputs": [],
   "source": [
    "#pip install git+git://github.com/PnS2019/pnslib.git"
   ]
  },
  {
   "cell_type": "code",
   "execution_count": 2,
   "metadata": {},
   "outputs": [],
   "source": [
    "import rospy\n",
    "from sensor_msgs.msg import Image\n",
    "from cv_bridge import CvBridge\n",
    "import cv2\n",
    "from pnslib import utils\n",
    "\n",
    "pub = rospy.Publisher(\"output_image\",Image,queue_size=1)"
   ]
  },
  {
   "cell_type": "code",
   "execution_count": 3,
   "metadata": {},
   "outputs": [],
   "source": [
    "face_cascade = cv2.CascadeClassifier(utils.get_haarcascade_path('haarcascade_frontalface_default.xml'))\n",
    "eye_cascade = cv2.CascadeClassifier(utils.get_haarcascade_path('haarcascade_eye.xml'))\n",
    "        \n",
    "def process_image(msg):\n",
    "    global pub\n",
    "    try:\n",
    "        bridge = CvBridge()\n",
    "        img_rgb = bridge.imgmsg_to_cv2(msg,\"rgb8\")\n",
    "        ##処理の内容##\n",
    "\n",
    "        # search face\n",
    "        gray = cv2.cvtColor(img_rgb, cv2.COLOR_RGB2GRAY)\n",
    "        \n",
    "        faces = face_cascade.detectMultiScale(gray, 1.3, 5)\n",
    "        \n",
    "        for (x, y, w, h) in faces:\n",
    "            cv2.rectangle(img_rgb, (x, y), (x+w, y+h), (255, 0, 0), 2)\n",
    "            roi_gray = gray[y:y+h, x:x+w]\n",
    "            roi_color = img_rgb[y:y+h, x:x+w]\n",
    "            eyes = eye_cascade.detectMultiScale(roi_gray)\n",
    "            for (ex, ey, ew, eh) in eyes:\n",
    "                cv2.rectangle(roi_color, (ex, ey), (ex+ew, ey+eh), (0, 255, 0), 2)\n",
    "        ###\n",
    "        output_img = bridge.cv2_to_imgmsg(img_rgb,\"rgb8\")\n",
    "        pub.publish(output_img)\n",
    "    except Exception as err:\n",
    "        print(err)\n",
    "\n",
    "def start_node():\n",
    "    rospy.init_node('face_detection')\n",
    "    rospy.Subscriber(\"camera/color/image_raw\",Image,process_image)\n",
    "    rospy.spin()\n",
    "    \n",
    "#### main -----------------------------------------------------------\n",
    "try:\n",
    "    start_node()\n",
    "except rospy.ROSInterruptException as err:\n",
    "    print(err)"
   ]
  }
 ],
 "metadata": {
  "kernelspec": {
   "display_name": "Python 3",
   "language": "python",
   "name": "python3"
  },
  "language_info": {
   "codemirror_mode": {
    "name": "ipython",
    "version": 3
   },
   "file_extension": ".py",
   "mimetype": "text/x-python",
   "name": "python",
   "nbconvert_exporter": "python",
   "pygments_lexer": "ipython3",
   "version": "3.8.5"
  }
 },
 "nbformat": 4,
 "nbformat_minor": 4
}
