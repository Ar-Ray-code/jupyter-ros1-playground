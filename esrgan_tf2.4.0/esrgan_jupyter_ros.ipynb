{
 "cells": [
  {
   "cell_type": "code",
   "execution_count": 3,
   "metadata": {},
   "outputs": [],
   "source": [
    "## Import ROS1 module\n",
    "import rospy\n",
    "from sensor_msgs.msg import Image\n",
    "import sys\n",
    "import cv2\n",
    "import numpy as np\n",
    "from cv_bridge import CvBridge"
   ]
  },
  {
   "cell_type": "code",
   "execution_count": 4,
   "metadata": {},
   "outputs": [],
   "source": [
    "## Publish setting\n",
    "pub = rospy.Publisher(\"output_image\", Image, queue_size=1)"
   ]
  },
  {
   "cell_type": "code",
   "execution_count": 5,
   "metadata": {
    "colab": {
     "base_uri": "https://localhost:8080/"
    },
    "id": "2xh1kvGEBjuP",
    "outputId": "ee44e35f-1400-4a78-a969-4d8cc635d06e"
   },
   "outputs": [
    {
     "name": "stdout",
     "output_type": "stream",
     "text": [
      "2.4.0\n"
     ]
    }
   ],
   "source": [
    "import tensorflow as tf\n",
    "import tensorflow_hub as hub\n",
    "import matplotlib.pyplot as plt\n",
    "print(tf.__version__)"
   ]
  },
  {
   "cell_type": "code",
   "execution_count": 6,
   "metadata": {
    "id": "X5PvXIXRwvHj"
   },
   "outputs": [],
   "source": [
    "model = hub.load(\"https://tfhub.dev/captain-pool/esrgan-tf2/1\")\n",
    "concrete_func = model.signatures[tf.saved_model.DEFAULT_SERVING_SIGNATURE_DEF_KEY]\n",
    "concrete_func.inputs[0].set_shape([1, 50, 50, 3])\n",
    "converter = tf.lite.TFLiteConverter.from_concrete_functions([concrete_func])\n",
    "converter.optimizations = [tf.lite.Optimize.DEFAULT]\n",
    "tflite_model = converter.convert()\n",
    "\n",
    "# # Save the TF Lite model.\n",
    "# with tf.io.gfile.GFile('ESRGAN.tflite', 'wb') as f:\n",
    "#   f.write(tflite_model)\n",
    "\n",
    "esrgan_model_path = '/home/autoware02/Desktop/esrgan_jupyteros/ESRGAN.tflite'"
   ]
  },
  {
   "cell_type": "markdown",
   "metadata": {
    "id": "jH5-xPkyUEqt"
   },
   "source": [
    "Download a test image (insect head)."
   ]
  },
  {
   "cell_type": "markdown",
   "metadata": {
    "id": "rgQ4qRuFNpyW"
   },
   "source": [
    "## Generate a super resolution image using TensorFlow Lite"
   ]
  },
  {
   "cell_type": "code",
   "execution_count": 7,
   "metadata": {
    "id": "J9FV4btf02-2"
   },
   "outputs": [],
   "source": [
    "# lr = tf.io.read_file(test_img_path)\n",
    "# lr = tf.image.decode_jpeg(lr)\n",
    "def process_image(msg):\n",
    "    global pub\n",
    "    try:\n",
    "    ## Change for ROS1 ----------------------------------------\n",
    "        bridge = CvBridge()\n",
    "        lr_rgb = bridge.imgmsg_to_cv2(msg,\"rgb8\")\n",
    "        lr_rgb = cv2.resize(lr_rgb,(50,50))\n",
    "        lr = np.asarray(lr_rgb)\n",
    "    ## ------------------------------------------------------\n",
    "        \n",
    "        lr = np.expand_dims(lr,axis=0)\n",
    "        lr = tf.cast(lr, tf.float32)\n",
    "\n",
    "        # Load TFLite model and allocate tensors.\n",
    "        interpreter = tf.lite.Interpreter(model_path=esrgan_model_path)\n",
    "        interpreter.allocate_tensors()\n",
    "        \n",
    "        # Get input and output tensors.\n",
    "        input_details = interpreter.get_input_details()\n",
    "        output_details = interpreter.get_output_details()\n",
    "        \n",
    "        # Run the model\n",
    "        interpreter.set_tensor(input_details[0]['index'], lr)\n",
    "        interpreter.invoke()\n",
    "        \n",
    "        # Extract the output and postprocess it\n",
    "        output_data = interpreter.get_tensor(output_details[0]['index'])\n",
    "        sr = tf.squeeze(output_data, axis=0)\n",
    "        sr = tf.clip_by_value(sr, 0, 255)\n",
    "        sr = tf.round(sr)\n",
    "        sr = tf.cast(sr, tf.uint8)\n",
    "    ## Change for ROS1 ----------------------------------------\n",
    "        output_img = cv2.resize(sr.numpy(),(356,200))\n",
    "        output_img = bridge.cv2_to_imgmsg(output_img,\"rgb8\")\n",
    "        pub.publish(output_img)\n",
    "    ## --------------------------------------------------------\n",
    "    except Exception as err:\n",
    "        print (err)"
   ]
  },
  {
   "cell_type": "markdown",
   "metadata": {},
   "source": [
    "## ROSPY init"
   ]
  },
  {
   "cell_type": "code",
   "execution_count": 8,
   "metadata": {},
   "outputs": [],
   "source": [
    "def start_node():\n",
    "    rospy.init_node('esrgan')\n",
    "    rospy.Subscriber(\"camera/color/image_raw\",Image,process_image)\n",
    "    rospy.spin()"
   ]
  },
  {
   "cell_type": "code",
   "execution_count": null,
   "metadata": {},
   "outputs": [],
   "source": [
    "try:\n",
    "    start_node()\n",
    "except rospy.ROSInterruptException as err:\n",
    "    print (err)"
   ]
  },
  {
   "cell_type": "markdown",
   "metadata": {
    "id": "EwddQrDUNQGO"
   },
   "source": [
    "## Visualize the result"
   ]
  },
  {
   "cell_type": "code",
   "execution_count": null,
   "metadata": {
    "colab": {
     "base_uri": "https://localhost:8080/",
     "height": 382
    },
    "id": "aasKuozt1gNd",
    "outputId": "2ecd08ba-57d6-4429-87fd-5a3c5db07353"
   },
   "outputs": [],
   "source": [
    "# # lr = tf.cast(tf.squeeze(lr, axis=0), tf.uint8)\n",
    "# # plt.figure(figsize = (1, 1))\n",
    "# # plt.title('LR')\n",
    "# # plt.imshow(lr.numpy());\n",
    "# # \n",
    "# # plt.figure(figsize=(10, 4))\n",
    "# # plt.subplot(1, 2, 1)        \n",
    "# # plt.title(f'ESRGAN (x4)')\n",
    "# plt.imshow(sr.numpy());\n",
    "\n",
    "# bicubic = tf.image.resize(lr, [200, 200], tf.image.ResizeMethod.BICUBIC)\n",
    "# bicubic = tf.cast(bicubic, tf.uint8)\n",
    "# plt.subplot(1, 2, 2)   \n",
    "# plt.title('Bicubic')\n",
    "# plt.imshow(bicubic.numpy());"
   ]
  }
 ],
 "metadata": {
  "colab": {
   "name": "super_resolution.ipynb",
   "provenance": [],
   "toc_visible": true
  },
  "kernelspec": {
   "display_name": "Python 3",
   "language": "python",
   "name": "python3"
  },
  "language_info": {
   "codemirror_mode": {
    "name": "ipython",
    "version": 3
   },
   "file_extension": ".py",
   "mimetype": "text/x-python",
   "name": "python",
   "nbconvert_exporter": "python",
   "pygments_lexer": "ipython3",
   "version": "3.6.9"
  }
 },
 "nbformat": 4,
 "nbformat_minor": 1
}
